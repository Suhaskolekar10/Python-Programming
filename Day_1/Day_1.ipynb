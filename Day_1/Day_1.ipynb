{
  "nbformat": 4,
  "nbformat_minor": 0,
  "metadata": {
    "colab": {
      "provenance": []
    },
    "kernelspec": {
      "name": "python3",
      "display_name": "Python 3"
    },
    "language_info": {
      "name": "python"
    }
  },
  "cells": [
    {
      "cell_type": "markdown",
      "source": [
        "### 🧪 Day :-1 Problems to Solve:\n",
        "\n",
        "1. Compare the prices of 3 phones and find the most expensive one.\n",
        "\n",
        "2. Check if today’s temperature (input) is hot (>35°C), cold (<15°C), or normal.\n",
        "\n",
        "3. Calculate the total bill amount after adding GST to a product price.Use slab: GST = 18% of price.\n",
        "\n",
        "4. Convert today's temperature from Celsius to Fahrenheit using a formula.Formula: F = (C × 9/5) + 32\n",
        "\n",
        "5. Check if the given user rating (1–5) is a Good (4–5), Average (2–3), or Poor (1) review.\n",
        "\n",
        "6. Find the factorial of 10 for a statistical computation in a game.\n",
        "\n",
        "7. Take your age as input and tell if you're a child, teen, or adult.\n",
        "\n",
        "      Child < 13\n",
        "\n",
        "      Teen 13–19\n",
        "\n",
        "      Adult ≥ 20\n",
        "\n",
        "8. Input electricity usage in units and calculate the total bill based on a slab system.Example slab:\n",
        "\n",
        "      0–100 units → ₹5/unit\n",
        "\n",
        "      101–200 units → ₹7/unit\n",
        "\n",
        "      Above 200 units → ₹10/unit\n",
        "\n",
        "9. Determine if a string is a palindrome (e.g., 'madam').\n",
        "\n",
        "10. Build a mini calculator that performs addition, subtraction, multiplication, or division."
      ],
      "metadata": {
        "id": "wt8v5nH-GV8X"
      }
    },
    {
      "cell_type": "code",
      "execution_count": 1,
      "metadata": {
        "colab": {
          "base_uri": "https://localhost:8080/"
        },
        "id": "_V-k8DeTGB4g",
        "outputId": "03aa0a19-63a6-4f5e-92a3-3b25cc0c3e10"
      },
      "outputs": [
        {
          "output_type": "stream",
          "name": "stdout",
          "text": [
            "Enter the price of first phone:- 28000\n",
            "Enter the price of second phove :- 35000\n",
            "Enter the price of third phone :-24000\n",
            "Second phone is expensive with price =  35000\n"
          ]
        }
      ],
      "source": [
        "# 1. Compare the prices of 3 phones and find the most expensive one.\n",
        "\n",
        "p1 = int(input(\"Enter the price of first phone:- \"))\n",
        "p2 = int(input(\"Enter the price of second phove :- \"))\n",
        "p3 = int(input(\"Enter the price of third phone :-\"))\n",
        "\n",
        "#check for expensive one\n",
        "if (p1>p2) and (p1>p3):\n",
        "  print(\"First phone is expensive with price = \",p1)\n",
        "elif (p2>p1) and (p2>p3):\n",
        "  print(\"Second phone is expensive with price = \",p2)\n",
        "else:\n",
        "  print(\"Third phone is expensive with price = \",p3)"
      ]
    },
    {
      "cell_type": "code",
      "source": [
        "# 2. Check if today’s temperature (input) is hot (>35°C), cold (<15°C), or normal.\n",
        "\n",
        "temp = float(input(\"Enter the today's temperature in Cel. :- \"))\n",
        "\n",
        "if (temp > 35):\n",
        "  print(\"Today's temperature is hot.\")\n",
        "elif (temp <= 35) and (temp >= 15):\n",
        "  print(\"Today's temperature is normal.\")\n",
        "else:\n",
        "  print(\"Today's temperature is cold.\")\n"
      ],
      "metadata": {
        "colab": {
          "base_uri": "https://localhost:8080/"
        },
        "id": "jS3yjOKTcmSW",
        "outputId": "61d003e0-7fcd-428f-bcbb-2ed7d005b982"
      },
      "execution_count": 2,
      "outputs": [
        {
          "output_type": "stream",
          "name": "stdout",
          "text": [
            "Enter the today's temperature in Cel. :- 25\n",
            "Today's temperature is normal.\n"
          ]
        }
      ]
    },
    {
      "cell_type": "code",
      "source": [
        "# 3. Calculate the total bill amount after adding GST to a product price.Use slab: GST = 18% of price.\n",
        "\n",
        "product_price = float(input(\"Enter the product price :- \"))\n",
        "\n",
        "total_bill = (18/100)*product_price + product_price\n",
        "\n",
        "print(\"Total bill after adding GST :- \", total_bill)"
      ],
      "metadata": {
        "id": "tgPqZN7PeiOc",
        "colab": {
          "base_uri": "https://localhost:8080/"
        },
        "outputId": "4fc412f8-77b6-460c-9c10-d36faf443fcb"
      },
      "execution_count": 3,
      "outputs": [
        {
          "output_type": "stream",
          "name": "stdout",
          "text": [
            "Enter the product price :- 549\n",
            "Total bill after adding GST :-  647.8199999999999\n"
          ]
        }
      ]
    },
    {
      "cell_type": "code",
      "source": [
        "# 4. Convert today's temperature from Celsius to Fahrenheit using a formula.Formula: F = (C × 9/5) + 32\n",
        "\n",
        "temp = float(input(\"Enter today's temperature in celsius :- \"))\n",
        "\n",
        "f = (temp * 9/5) +32\n",
        "\n",
        "print(\"Today's temperature in Fahrenhite :- \", f)\n"
      ],
      "metadata": {
        "colab": {
          "base_uri": "https://localhost:8080/"
        },
        "id": "eVHOVQfoMUoY",
        "outputId": "0c8d186b-1e2a-44d3-93c2-1002e9f5a435"
      },
      "execution_count": 4,
      "outputs": [
        {
          "output_type": "stream",
          "name": "stdout",
          "text": [
            "Enter today's temperature in celsius :- 32\n",
            "Today's temperature in Fahrenhite :-  89.6\n"
          ]
        }
      ]
    },
    {
      "cell_type": "code",
      "source": [
        "# 5. Check if the given user rating (1–5) is a Good (4–5), Average (2–3), or Poor (1) review.\n",
        "\n",
        "rating = int(input(\"Enter the user rating (1-5) : \"))\n",
        "\n",
        "if (rating >= 4) and (rating <= 5):\n",
        "  print(\"Good\")\n",
        "elif (rating >= 2) and ((rating <= 3)):\n",
        "  print(\"Average\")\n",
        "else:\n",
        "  print(\"Poor\")"
      ],
      "metadata": {
        "colab": {
          "base_uri": "https://localhost:8080/"
        },
        "id": "Rt3OxFJnNmpR",
        "outputId": "9a34c760-8ab7-4f2f-d701-6542375b5b55"
      },
      "execution_count": 5,
      "outputs": [
        {
          "output_type": "stream",
          "name": "stdout",
          "text": [
            "Enter the user rating (1-5) : 4\n",
            "Good\n"
          ]
        }
      ]
    },
    {
      "cell_type": "code",
      "source": [
        "# 6. Find the factorial of 10 for a statistical computation in a game.\n",
        "\n",
        "num = int(input(\"Enter the number to find factorial = \"))\n",
        "\n",
        "factorial = 1\n",
        "\n",
        "for i in range(1, num+1):\n",
        "  factorial = factorial * i\n",
        "\n",
        "print(f\"{num}! = {factorial}\")"
      ],
      "metadata": {
        "colab": {
          "base_uri": "https://localhost:8080/"
        },
        "id": "Q-33RKrxOigG",
        "outputId": "a7076698-19a2-4861-af28-9336d1f7fb1e"
      },
      "execution_count": 6,
      "outputs": [
        {
          "output_type": "stream",
          "name": "stdout",
          "text": [
            "Enter the number to find factorial = 7\n",
            "7! = 5040\n"
          ]
        }
      ]
    },
    {
      "cell_type": "code",
      "source": [
        "''' 7. Take your age as input and tell if you're a child, teen, or adult.\n",
        "\n",
        "Child < 13\n",
        "Teen 13–19\n",
        "Adult ≥ 20\n",
        "'''\n",
        "age = int(input(\"Enter your age :- \"))\n",
        "\n",
        "if (age < 13):\n",
        "  print(\"You are a child.\")\n",
        "elif (age >= 13) and (age <= 19):\n",
        "  print(\"You are a teen.\")\n",
        "else:\n",
        "  print(\"You are an Adult.\")"
      ],
      "metadata": {
        "colab": {
          "base_uri": "https://localhost:8080/"
        },
        "id": "3PMMsEIJP6b1",
        "outputId": "d0801690-41bc-493d-8432-cbe48857eeca"
      },
      "execution_count": 7,
      "outputs": [
        {
          "output_type": "stream",
          "name": "stdout",
          "text": [
            "Enter your age :- 18\n",
            "You are a teen.\n"
          ]
        }
      ]
    },
    {
      "cell_type": "code",
      "source": [
        "''' 8. Input electricity usage in units and calculate the total bill based on a slab system.Example slab:\n",
        "\n",
        "0–100 units → ₹5/unit\n",
        "\n",
        "101–200 units → ₹7/unit\n",
        "\n",
        "Above 200 units → ₹10/unit\n",
        "'''\n",
        "\n",
        "units = int(input(\"Enter the electricity used in units :- \"))\n",
        "\n",
        "total_bill = 0\n",
        "\n",
        "if (units <= 100):\n",
        "  total_boll = units * 5\n",
        "elif (units <= 200) and (units > 100):\n",
        "  total_bill = (units * 5) +((units - 100) * 2)\n",
        "else:\n",
        "  total_bill = (units * 5) + ((units - 100) *2) + ((units - 200) * 3)\n",
        "\n",
        "print(f\"Total bill for {units} units = {total_bill}\")\n"
      ],
      "metadata": {
        "colab": {
          "base_uri": "https://localhost:8080/"
        },
        "id": "W0pMRp-GRoO4",
        "outputId": "ea8db2e3-acb5-4d29-a735-7fb13ac3b8f6"
      },
      "execution_count": 8,
      "outputs": [
        {
          "output_type": "stream",
          "name": "stdout",
          "text": [
            "Enter the electricity used in units :- 252\n",
            "Total bill for 252 units = 1720\n"
          ]
        }
      ]
    },
    {
      "cell_type": "code",
      "source": [
        "# 9. Determine if a string is a palindrome (e.g., 'madam').\n",
        "\n",
        "string = input(\"Enter the string :-\")\n",
        "\n",
        "rev_string = string[::-1]\n",
        "\n",
        "if string == rev_string:\n",
        "  print(\"String is a palindrome.\")\n",
        "else:\n",
        "  print(\"String is not a palindrome.\")"
      ],
      "metadata": {
        "colab": {
          "base_uri": "https://localhost:8080/"
        },
        "id": "D-b2gNeUUOik",
        "outputId": "047a5f3a-9fd2-48ee-f0dd-b63de8a09e22"
      },
      "execution_count": 9,
      "outputs": [
        {
          "output_type": "stream",
          "name": "stdout",
          "text": [
            "Enter the string :-madan\n",
            "String is not a palindrome.\n"
          ]
        }
      ]
    },
    {
      "cell_type": "code",
      "source": [
        "# 10. Build a mini calculator that performs addition, subtraction, multiplication, or division.\n",
        "\n",
        "num1 = int(input(\"Enter the first number :- \"))\n",
        "num2 = int(input(\"Enter the second number :- \"))\n",
        "operator = input(\"Enter the operator (+, -, *, /) :- \")\n",
        "\n",
        "if operator == '+':\n",
        "  print(f\"Addition of {num1} and {num2} = \", (num1 + num2))\n",
        "elif operator == '-':\n",
        "  print(f\"Subtraction of {num1} and {num2} = \", (num1 - num2))\n",
        "elif operator == '*':\n",
        "  print(f\"Multiplication of {num1} and {num2} = \", (num1 * num2))\n",
        "elif operator == '/':\n",
        "  if num2 == 0:\n",
        "    print(\"Error : can not divide by zero\")\n",
        "  else:\n",
        "    print(f\"Division of {num1} and {num2} = \", (num1 / num2))\n",
        "else:\n",
        "  print(\"Invalid operator!\")"
      ],
      "metadata": {
        "colab": {
          "base_uri": "https://localhost:8080/"
        },
        "id": "XV7EpVVsVBlO",
        "outputId": "ea051863-c553-4024-b907-650f0493677d"
      },
      "execution_count": 10,
      "outputs": [
        {
          "output_type": "stream",
          "name": "stdout",
          "text": [
            "Enter the first number :- 78\n",
            "Enter the second number :- 12\n",
            "Enter the operator (+, -, *, /) :- /\n",
            "Division of 78 and 12 =  6.5\n"
          ]
        }
      ]
    },
    {
      "cell_type": "code",
      "source": [],
      "metadata": {
        "id": "z9upy-lYX8J_"
      },
      "execution_count": 10,
      "outputs": []
    }
  ]
}