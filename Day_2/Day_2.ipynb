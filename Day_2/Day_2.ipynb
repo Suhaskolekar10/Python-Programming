{
  "nbformat": 4,
  "nbformat_minor": 0,
  "metadata": {
    "colab": {
      "provenance": []
    },
    "kernelspec": {
      "name": "python3",
      "display_name": "Python 3"
    },
    "language_info": {
      "name": "python"
    }
  },
  "cells": [
    {
      "cell_type": "markdown",
      "source": [
        "### 🔟 **Practice Problems (Set-2)**\n",
        "\n",
        "1. **Even or Odd Checker**  \n",
        "   Write a program to take an integer input from the user and check whether it is even or odd.\n",
        "\n",
        "2. **Find the Maximum of Three Numbers**  \n",
        "   Take three numbers as input and print the largest one using if-elif-else.\n",
        "\n",
        "3. **Simple Calculator**  \n",
        "   Ask the user to enter two numbers and an operator (`+`, `-`, `*`, `/`). Perform the appropriate operation and print the result.\n",
        "\n",
        "4. **Vowel or Consonant**  \n",
        "   Input a single character and check whether it's a vowel or consonant.\n",
        "\n",
        "5. **Multiplication Table Generator**  \n",
        "   Input a number and print its multiplication table up to 10 using a for loop.\n",
        "\n",
        "6. **Sum of N Numbers**  \n",
        "   Input a number `n` and then take `n` inputs from the user. Calculate and print the sum.\n",
        "\n",
        "7. **Reverse Countdown**  \n",
        "   Input a number and print a countdown from that number to 1 using a while loop.\n",
        "\n",
        "8. **Age Category Checker**  \n",
        "   Input age and print:\n",
        "   - “Child” if age < 13  \n",
        "   - “Teen” if 13 ≤ age < 20  \n",
        "   - “Adult” if 20 ≤ age < 60  \n",
        "   - “Senior” if age ≥ 60\n",
        "\n",
        "9. **Debug This Code**  \n",
        "   Find and fix the error:\n",
        "   ```python\n",
        "   x = input(\"Enter number: \")\n",
        "   if x > 10:\n",
        "       print(\"Greater than 10\")\n",
        "   ```\n",
        "\n",
        "10. **Dry Run Challenge**  \n",
        "   Dry run the following code and write the values of `i` and `total` in each loop:\n",
        "   ```python\n",
        "   total = 0\n",
        "   for i in range(1, 4):\n",
        "       total = total + i\n",
        "       print(i, total)\n",
        "   ```"
      ],
      "metadata": {
        "id": "RvuDrt4VOUrX"
      }
    },
    {
      "cell_type": "code",
      "source": [
        "# Que 1. Write a program to take an integer input from the user and check whether it is even or odd.\n",
        "\n",
        "num = int(input(\"Enter a number :- \"))\n",
        "\n",
        "if num % 2 == 0:\n",
        "  print(f\"{num} is Even.\")\n",
        "else:\n",
        "  print(f\"{num} is Odd.\")"
      ],
      "metadata": {
        "colab": {
          "base_uri": "https://localhost:8080/"
        },
        "id": "8ReUMcvmOss2",
        "outputId": "7e6012f8-816a-4e75-84ee-ec00127e05fd"
      },
      "execution_count": null,
      "outputs": [
        {
          "output_type": "stream",
          "name": "stdout",
          "text": [
            "Enter a number :- 77\n",
            "77 is Odd.\n"
          ]
        }
      ]
    },
    {
      "cell_type": "code",
      "source": [
        "# Que 2. ake three numbers as input and print the largest one using if-elif-else.\n",
        "\n",
        "num1 = int(input(\"Enter the first number :- \"))\n",
        "num2 = int(input(\"Enter the second number :- \"))\n",
        "num3 = int(input(\"Enter the third number :- \"))\n",
        "\n",
        "if (num1 > num2) and (num1 > num3):\n",
        "  print(f\"{num1} is the greatest number.\")\n",
        "elif (num2 > num1) and (num2 > num3):\n",
        "  print(f\"{num2} is the greatest number.\")\n",
        "else:\n",
        "  print(f\"{num3} is the greatest number.\")"
      ],
      "metadata": {
        "colab": {
          "base_uri": "https://localhost:8080/"
        },
        "id": "ZZ2xhEujOvjl",
        "outputId": "f145087b-e8c9-4238-f5c2-cbe512d8475b"
      },
      "execution_count": null,
      "outputs": [
        {
          "output_type": "stream",
          "name": "stdout",
          "text": [
            "Enter the first number :- 75\n",
            "Enter the second number :- 95\n",
            "Enter the third number :- 86\n",
            "95 is the greatest number.\n"
          ]
        }
      ]
    },
    {
      "cell_type": "code",
      "source": [
        "# Que 3. Ask the user to enter two numbers and an operator (+, -, *, /). Perform the appropriate operation and print the result.\n",
        "\n",
        "n1 = int(input(\"Enter the first number :- \"))\n",
        "n2 = int(input(\"Enter the second number :- \"))\n",
        "operator = input(\"Enter the operator (+,-,*,/)\")\n",
        "\n",
        "if operator == \"+\":\n",
        "  print(f\"Result of {n1} + {n2} = \",n1 + n2)\n",
        "elif operator == \"-\":\n",
        "  print(f\"Result of {n1} - {n2} = \",n1 - n2)\n",
        "elif operator == \"*\":\n",
        "  print(f\"Result of {n1} * {n2} = \",n1 * n2)\n",
        "elif operator == \"/\":\n",
        "  if n2 == 0:\n",
        "    print(\"Error : can't divide by zero.\")\n",
        "  else:\n",
        "    print(f\"Result of {n1} / {n2} = \",n1 / n2)\n",
        "else:\n",
        "  print(\"Invalid Operator!\")"
      ],
      "metadata": {
        "colab": {
          "base_uri": "https://localhost:8080/"
        },
        "id": "RhuRsxTeQQdp",
        "outputId": "56f4ae4f-d045-43e2-c68b-67fb1befe7db"
      },
      "execution_count": null,
      "outputs": [
        {
          "output_type": "stream",
          "name": "stdout",
          "text": [
            "Enter the first number :- 75\n",
            "Enter the second number :- 15\n",
            "Enter the operator (+,-,*,/)/\n",
            "Result of 75 / 15 =  5.0\n"
          ]
        }
      ]
    },
    {
      "cell_type": "code",
      "source": [
        "# Que 4. Input a single character and check whether it's a vowel or consonant.\n",
        "\n",
        "char = input(\"Enter a character :- \")\n",
        "\n",
        "vowels = \"aeiouAEIOU\"\n",
        "\n",
        "if char in vowels:\n",
        "  print(f\"{char} is a vowel.\")\n",
        "else:\n",
        "  print(f\"{char} is a consonant\")"
      ],
      "metadata": {
        "colab": {
          "base_uri": "https://localhost:8080/"
        },
        "id": "4TcO9dkSSEW4",
        "outputId": "f1d978d8-e89c-478d-e7b6-062673454837"
      },
      "execution_count": null,
      "outputs": [
        {
          "output_type": "stream",
          "name": "stdout",
          "text": [
            "Enter a character :- p\n",
            "p is a consonant\n"
          ]
        }
      ]
    },
    {
      "cell_type": "code",
      "source": [
        "# Que 5. Input a number and print its multiplication table up to 10 using a for loop.\n",
        "\n",
        "num = int(input(\"Enter the number :- \"))\n",
        "\n",
        "for i in range(1,11):\n",
        "  print(f\"{num} * {i} = \", (num*i))"
      ],
      "metadata": {
        "colab": {
          "base_uri": "https://localhost:8080/"
        },
        "id": "1FDepRcpS35y",
        "outputId": "e62488c1-e619-4ad6-8ae0-6d44e2033b52"
      },
      "execution_count": null,
      "outputs": [
        {
          "output_type": "stream",
          "name": "stdout",
          "text": [
            "Enter the number :- 7\n",
            "7 * 1 =  7\n",
            "7 * 2 =  14\n",
            "7 * 3 =  21\n",
            "7 * 4 =  28\n",
            "7 * 5 =  35\n",
            "7 * 6 =  42\n",
            "7 * 7 =  49\n",
            "7 * 8 =  56\n",
            "7 * 9 =  63\n",
            "7 * 10 =  70\n"
          ]
        }
      ]
    },
    {
      "cell_type": "code",
      "source": [
        "# Que 6. Input a number n and then take n inputs from the user. Calculate and print the sum.\n",
        "\n",
        "n = int(input(\"Enter the number :- \"))\n",
        "sum = 0\n",
        "\n",
        "for i in range(n):\n",
        "  num = int(input())\n",
        "  sum = sum + num\n",
        "\n",
        "print(f\"sum of {n} numbers = {sum}\")\n"
      ],
      "metadata": {
        "colab": {
          "base_uri": "https://localhost:8080/"
        },
        "id": "KFsjtPM9TjKZ",
        "outputId": "19eb8f60-d732-430f-9646-ca7cdde3fd41"
      },
      "execution_count": null,
      "outputs": [
        {
          "output_type": "stream",
          "name": "stdout",
          "text": [
            "Enter the number :- 9\n",
            "10\n",
            "11\n",
            "12\n",
            "13\n",
            "14\n",
            "15\n",
            "6\n",
            "7\n",
            "18\n",
            "sum of 9 numbers = 106\n"
          ]
        }
      ]
    },
    {
      "cell_type": "code",
      "source": [
        "# Que 7. Input a number and print a countdown from that number to 1 using a while loop.\n",
        "\n",
        "num = int(input(\"Enter the number :- \"))\n",
        "\n",
        "while (num >=1):\n",
        "  print(num)\n",
        "  num -=1"
      ],
      "metadata": {
        "colab": {
          "base_uri": "https://localhost:8080/"
        },
        "id": "SJDs5DaGUaoB",
        "outputId": "83713e9d-bb08-4eb1-cd3e-e4d4690e60a2"
      },
      "execution_count": null,
      "outputs": [
        {
          "output_type": "stream",
          "name": "stdout",
          "text": [
            "Enter the number :- 5\n",
            "5\n",
            "4\n",
            "3\n",
            "2\n",
            "1\n"
          ]
        }
      ]
    },
    {
      "cell_type": "code",
      "source": [
        "'''Que 8. Input age and print:\n",
        "\n",
        "    “Child” if age < 13\n",
        "    “Teen” if 13 ≤ age < 20\n",
        "    “Adult” if 20 ≤ age < 60\n",
        "    “Senior” if age ≥ 60\n",
        "'''\n",
        "\n",
        "age = int(input(\"Enter the age (greater than 0):- \"))\n",
        "\n",
        "if (age < 13):\n",
        "  print(\"Child\")\n",
        "elif (age >= 13) and (age < 20):\n",
        "  print(\"Teen\")\n",
        "elif (age >=20) and (age < 60):\n",
        "  print(\"Adult\")\n",
        "else:\n",
        "  print(\"Senior\")"
      ],
      "metadata": {
        "colab": {
          "base_uri": "https://localhost:8080/"
        },
        "id": "1HFZTTSAVL1O",
        "outputId": "772ae48e-3c24-44eb-c496-dad1ca596875"
      },
      "execution_count": null,
      "outputs": [
        {
          "output_type": "stream",
          "name": "stdout",
          "text": [
            "Enter the age (greater than 0):- 45\n",
            "Adult\n"
          ]
        }
      ]
    },
    {
      "cell_type": "code",
      "source": [
        "'''9. Find and fix the error:\n",
        "\n",
        "x = input(\"Enter number: \")\n",
        "if x > 10:\n",
        "    print(\"Greater than 10\")\n",
        "\n",
        "'''\n",
        "\n",
        "## Here x is a string because we did not Typecasted it to int (Error :- can't compair str to int.)\n",
        "\n",
        "x = int(input(\"Enter number :- \"))\n",
        "if x >10 :\n",
        "  print(\"Greater than 10.\")"
      ],
      "metadata": {
        "colab": {
          "base_uri": "https://localhost:8080/"
        },
        "id": "SpRwTT0_WL0i",
        "outputId": "528b763b-7e81-4f08-df72-00a07dc971b8"
      },
      "execution_count": null,
      "outputs": [
        {
          "output_type": "stream",
          "name": "stdout",
          "text": [
            "Enter number :- 25\n",
            "Greater than 10.\n"
          ]
        }
      ]
    },
    {
      "cell_type": "markdown",
      "source": [
        "Que 10. :- Dry run the following code and write the values of i and total in each loop:\n",
        "```python\n",
        "total = 0\n",
        "for i in range(1, 4):\n",
        "   total = total + i\n",
        "   print(i, total)\n",
        "```\n",
        "- 1 --> i = 1 and total = 1\n",
        "- 2 --> 1 = 2 and total = 3\n",
        "- 3 --> i = 3 and total = 6"
      ],
      "metadata": {
        "id": "5ZBkcukfYAT8"
      }
    },
    {
      "cell_type": "code",
      "source": [
        "total = 0\n",
        "for i in range(1, 4):\n",
        "   total = total + i\n",
        "   print(i, total)"
      ],
      "metadata": {
        "id": "T_9Y-wZHX4H5",
        "colab": {
          "base_uri": "https://localhost:8080/"
        },
        "outputId": "f351d4dc-e971-4407-bd7c-8d0b8d7ffaa6"
      },
      "execution_count": 15,
      "outputs": [
        {
          "output_type": "stream",
          "name": "stdout",
          "text": [
            "1 1\n",
            "2 3\n",
            "3 6\n"
          ]
        }
      ]
    },
    {
      "cell_type": "code",
      "source": [],
      "metadata": {
        "id": "V7WNSIinZlAE"
      },
      "execution_count": null,
      "outputs": []
    }
  ]
}