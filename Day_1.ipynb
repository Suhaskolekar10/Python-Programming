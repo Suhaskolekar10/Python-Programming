{
 "cells": [
  {
   "cell_type": "markdown",
   "metadata": {},
   "source": [
    "# Introduction to Python Programming ..."
   ]
  },
  {
   "cell_type": "markdown",
   "metadata": {},
   "source": [
    " 1. What is Python?\n",
    "\n",
    "    1) Python is a high-level, interpreted programming language known for its simplicity and readability.\n",
    "    \n",
    "    2) Created by **Guido van Rossum** and first released in **1991**.\n",
    "    \n",
    "    3) It supports multiple programming paradigms: procedural, object-oriented, and functional programming."
   ]
  },
  {
   "cell_type": "markdown",
   "metadata": {},
   "source": [
    "2. Key Features of Python:-\n",
    "\n",
    "    1) Easy to Learn & Readable – Uses simple English-like syntax.\n",
    "    \n",
    "    2) Dynamically Typed – No need to declare variable types explicitly.\n",
    "    \n",
    "    3) Interpreted Language – Executes code line by line, making debugging easier.\n",
    "    \n",
    "    4) Cross-platform – Runs on Windows, macOS, and Linux without modification.\n",
    "    \n",
    "    5) Extensive Libraries support – NumPy, Pandas, TensorFlow, Flask, Django, etc.\n",
    "    \n",
    "    6) Object-Oriented – Supports classes and objects.\n",
    "    \n",
    "    7) Open-Source – Free to use and modify."
   ]
  },
  {
   "cell_type": "markdown",
   "metadata": {},
   "source": [
    "3. Use Cases of Python:-\n",
    "\n",
    "    1) Data Science & Machine Learning\n",
    "\n",
    "    2) Web Development\n",
    "    \n",
    "    3) Automation & Scripting\n",
    "    \n",
    "    4) Cybersecurity & Ethical Hacking\n",
    "    \n",
    "    5) Game Development\n",
    "    \n",
    "    5) Internet of Things (IoT)\n",
    "    \n",
    "    6) Finance & FinTech\n",
    "    \n",
    "    7) Cloud Computing & DevOps\n"
   ]
  },
  {
   "cell_type": "markdown",
   "metadata": {},
   "source": [
    "4. Future Scope of Python\n",
    "\n",
    "    1) AI & Machine Learning Advancements\n",
    "\n",
    "    2) Quantum Computing\n",
    "\n",
    "    3) Blockchain & Web3 Development\n",
    "\n",
    "    4) Robotics & Automation\n",
    "\n",
    "    5) Cybersecurity Innovations\n",
    "\n",
    "    6) Edge Computing & IoT Growth\n",
    "\n",
    "    7) Augmented & Virtual Reality (AR/VR)\n",
    "\n",
    "    8) Cloud & DevOps Expansion"
   ]
  },
  {
   "cell_type": "markdown",
   "metadata": {},
   "source": [
    "### Basics of Python :-"
   ]
  },
  {
   "cell_type": "markdown",
   "metadata": {},
   "source": [
    "**Comments**:- used to write about the code.comments explain what is happening in the code.it will help others to understand.\n",
    "\n",
    "1) Single Line comment :- #\n",
    "\n",
    "2) Multiline comments :- \"\"\"________\"\"\""
   ]
  },
  {
   "cell_type": "markdown",
   "metadata": {},
   "source": [
    "**Types of functions** :-\n",
    "1) In-build functions :- Which are already defined in basecode of python. e.g:- Print(), input()\n",
    "\n",
    "2) User defined functions :- functions written by user, it increases reusability of the code."
   ]
  }
 ],
 "metadata": {
  "language_info": {
   "name": "python"
  }
 },
 "nbformat": 4,
 "nbformat_minor": 2
}
